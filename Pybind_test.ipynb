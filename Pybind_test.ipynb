{
 "cells": [
  {
   "cell_type": "markdown",
   "id": "f40abfc4",
   "metadata": {},
   "source": [
    "# Test pybind cpp import"
   ]
  },
  {
   "cell_type": "code",
   "execution_count": 1,
   "id": "423adf04",
   "metadata": {},
   "outputs": [
    {
     "name": "stdout",
     "output_type": "stream",
     "text": [
      "Best Move: C1-D1-1 \n"
     ]
    }
   ],
   "source": [
    "import libboard\n",
    "\n",
    "fen = \"1r21RG1r21/7/7/7/b36/7/b1b1BGr31b1b1 b\"\n",
    "depth = 5\n",
    "move = libboard.compute_best_move(fen, depth)\n",
    "print(\"Best Move:\", move)"
   ]
  },
  {
   "cell_type": "code",
   "execution_count": 2,
   "id": "79928896",
   "metadata": {},
   "outputs": [
    {
     "name": "stdout",
     "output_type": "stream",
     "text": [
      "Best Move: D4-D1-3 \n",
      "Time taken: 0.08123183250427246\n"
     ]
    }
   ],
   "source": [
    "fen = \"r1r11RG1r21/7/7/3r33/b36/7/b1b11BG1b1b1 r\"\n",
    "depth = 7\n",
    "import time\n",
    "start_time = time.time()\n",
    "move = libboard.compute_best_move(fen, depth)\n",
    "end_time = time.time()\n",
    "print(\"Best Move:\", move)\n",
    "print(\"Time taken:\", end_time - start_time)"
   ]
  },
  {
   "cell_type": "code",
   "execution_count": 3,
   "id": "6d89adea",
   "metadata": {},
   "outputs": [],
   "source": [
    "import sys\n",
    "import os\n",
    "\n",
    "# Append parent directory of current working directory to sys.path\n",
    "sys.path.append(os.path.abspath(os.path.join(os.getcwd(), \"./GaT_python_simple\")))\n",
    "\n",
    "from guard_towers import fen_to_board\n",
    "from evaluation import find_best_move"
   ]
  },
  {
   "cell_type": "code",
   "execution_count": 5,
   "id": "718135c0",
   "metadata": {},
   "outputs": [
    {
     "name": "stdout",
     "output_type": "stream",
     "text": [
      "Best Move: D4-D1-3\n",
      "Time taken: 0.0004248619079589844\n"
     ]
    }
   ],
   "source": [
    "fen = \"r1r11RG1r21/7/7/3r33/b36/7/b1b11BG1b1b1 r\"\n",
    "depth = 7\n",
    "import time\n",
    "start_time = time.time()\n",
    "\n",
    "my_color = fen.split()[-1]\n",
    "board, _ = fen_to_board(fen)\n",
    "ai_move = find_best_move(board, my_color)\n",
    "\n",
    "end_time = time.time()\n",
    "print(\"Best Move:\", ai_move)\n",
    "print(\"Time taken:\", end_time - start_time)"
   ]
  },
  {
   "cell_type": "code",
   "execution_count": 9,
   "id": "43c6f65b",
   "metadata": {},
   "outputs": [
    {
     "data": {
      "text/plain": [
       "'r1r11RG1r21/7/7/3r33/b36/7/b1b11BG1b1bxxx r'"
      ]
     },
     "execution_count": 9,
     "metadata": {},
     "output_type": "execute_result"
    }
   ],
   "source": [
    "fen = \"r1r11RG1r21/7/7/3r33/b36/7/b1b11BG1b1bxxx r\"\n",
    "\n",
    "# replace the second last character with a space\n",
    "fen = fen[:-2] + \" \" + fen[-1]\n",
    "\n",
    "fen"
   ]
  },
  {
   "cell_type": "code",
   "execution_count": null,
   "id": "269c6132",
   "metadata": {},
   "outputs": [],
   "source": []
  }
 ],
 "metadata": {
  "kernelspec": {
   "display_name": "base",
   "language": "python",
   "name": "python3"
  },
  "language_info": {
   "codemirror_mode": {
    "name": "ipython",
    "version": 3
   },
   "file_extension": ".py",
   "mimetype": "text/x-python",
   "name": "python",
   "nbconvert_exporter": "python",
   "pygments_lexer": "ipython3",
   "version": "3.11.7"
  }
 },
 "nbformat": 4,
 "nbformat_minor": 5
}

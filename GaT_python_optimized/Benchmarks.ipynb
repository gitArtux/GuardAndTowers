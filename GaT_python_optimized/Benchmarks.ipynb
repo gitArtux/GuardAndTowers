{
 "cells": [
  {
   "cell_type": "code",
   "execution_count": 1,
   "id": "14c90525",
   "metadata": {},
   "outputs": [],
   "source": [
    "### Benchmarks for the 'generate_moves' function"
   ]
  },
  {
   "cell_type": "code",
   "execution_count": 1,
   "id": "96153f85",
   "metadata": {},
   "outputs": [],
   "source": [
    "from guard_towers import Board, BOARD_SIZE, Piece\n",
    "from time import time\n",
    "import pandas as pd"
   ]
  },
  {
   "cell_type": "code",
   "execution_count": 2,
   "id": "13558262",
   "metadata": {},
   "outputs": [],
   "source": [
    "from timeit import timeit\n",
    "from guard_towers import Board, Piece, BOARD_SIZE   # adjust import\n",
    "from typing import Dict\n",
    "\n",
    "def empty_board() -> Board:\n",
    "    \"\"\"Start with a completely blank board (no pieces).\"\"\"\n",
    "    b = Board()\n",
    "    for y in range(BOARD_SIZE):\n",
    "        for x in range(BOARD_SIZE):\n",
    "            b.grid[y][x] = None\n",
    "    return b\n",
    "\n",
    "def board_from_dict(pieces: Dict[str, Piece]) -> Board:\n",
    "    \"\"\"Create a board from a {square: Piece(...)} mapping.\"\"\"\n",
    "    b = empty_board()\n",
    "    for sq, pc in pieces.items():\n",
    "        b.place(sq, pc)\n",
    "    return b\n",
    "\n",
    "def time_generate_moves(board: Board, player: str, repeats: int = 10_000) -> float:\n",
    "    \"\"\"Return time (seconds) to call generate_moves `repeats` times.\"\"\"\n",
    "    return timeit(lambda: board.generate_moves(player), number=repeats)\n"
   ]
  },
  {
   "cell_type": "code",
   "execution_count": 3,
   "id": "a499ac7e",
   "metadata": {},
   "outputs": [
    {
     "name": "stdout",
     "output_type": "stream",
     "text": [
      "Blue to move: 0.1999410829739645\n",
      "Red  to move: 0.18289470800664276\n"
     ]
    }
   ],
   "source": [
    "initial_board = Board()\n",
    "print(\"Blue to move:\", time_generate_moves(initial_board, 'b'))\n",
    "print(\"Red  to move:\", time_generate_moves(initial_board, 'r'))\n"
   ]
  },
  {
   "cell_type": "code",
   "execution_count": 4,
   "id": "75a26919",
   "metadata": {},
   "outputs": [
    {
     "name": "stdout",
     "output_type": "stream",
     "text": [
      "Blue to move: 0.3186817920068279\n",
      "Red  to move: 0.27541312493849546\n"
     ]
    }
   ],
   "source": [
    "mid_game_pieces = {\n",
    "    # Blue\n",
    "    'D3': Piece('b', 'guard'),\n",
    "    'E3': Piece('b', 'tower', 3),\n",
    "    'B4': Piece('b', 'tower', 2),\n",
    "    'G1': Piece('b', 'tower', 1),\n",
    "\n",
    "    # Red\n",
    "    'D6': Piece('r', 'guard'),\n",
    "    'C5': Piece('r', 'tower', 2),\n",
    "    'F6': Piece('r', 'tower', 4),\n",
    "    'A7': Piece('r', 'tower', 1),\n",
    "}\n",
    "mid_game_board = board_from_dict(mid_game_pieces)\n",
    "\n",
    "print(\"Blue to move:\", time_generate_moves(mid_game_board, 'b'))\n",
    "print(\"Red  to move:\", time_generate_moves(mid_game_board, 'r'))\n"
   ]
  },
  {
   "cell_type": "code",
   "execution_count": 5,
   "id": "b9fb6300",
   "metadata": {},
   "outputs": [
    {
     "name": "stdout",
     "output_type": "stream",
     "text": [
      "Blue to move: 0.2349814169574529\n",
      "Red  to move: 0.21963212499395013\n"
     ]
    }
   ],
   "source": [
    "end_game_pieces = {\n",
    "    # Blue\n",
    "    'D2': Piece('b', 'guard'),\n",
    "    'D3': Piece('b', 'tower', 4),\n",
    "\n",
    "    # Red\n",
    "    'D7': Piece('r', 'guard'),\n",
    "    'D5': Piece('r', 'tower', 3),\n",
    "}\n",
    "end_game_board = board_from_dict(end_game_pieces)\n",
    "\n",
    "print(\"Blue to move:\", time_generate_moves(end_game_board, 'b'))\n",
    "print(\"Red  to move:\", time_generate_moves(end_game_board, 'r'))\n"
   ]
  },
  {
   "cell_type": "markdown",
   "id": "1f97cca8",
   "metadata": {},
   "source": [
    "### Benchmark eval function"
   ]
  },
  {
   "cell_type": "code",
   "execution_count": 6,
   "id": "5e093d9b",
   "metadata": {},
   "outputs": [
    {
     "name": "stdout",
     "output_type": "stream",
     "text": [
      "Evaluated 10000 times in 0.0111 seconds.\n",
      "Average time per call: 0.00000111 seconds.\n"
     ]
    }
   ],
   "source": [
    "import time\n",
    "from guard_towers import fen_to_board\n",
    "from evaluation import evaluate\n",
    "\n",
    "def benchmark_evaluate(fen: str, player: str, iterations: int = 10_000):\n",
    "    board, player = fen_to_board(fen)\n",
    "\n",
    "    # Time the evaluation function over multiple iterations\n",
    "    start = time.time()\n",
    "    for _ in range(iterations):\n",
    "        evaluate(board, player)\n",
    "    end = time.time()\n",
    "\n",
    "    total_time = end - start\n",
    "    avg_time = total_time / iterations\n",
    "    print(f\"Evaluated {iterations} times in {total_time:.4f} seconds.\")\n",
    "    print(f\"Average time per call: {avg_time:.8f} seconds.\")\n",
    "\n",
    "# Example usage, random board pos\n",
    "benchmark_evaluate('r3RG5/r16/b16/7/7/7/3BG3 r', player='r')  # replace with your own FEN string"
   ]
  },
  {
   "cell_type": "code",
   "execution_count": 8,
   "id": "48ac4e53",
   "metadata": {},
   "outputs": [
    {
     "name": "stdout",
     "output_type": "stream",
     "text": [
      "Depth 1: Avg time = 0.0006s over 10 runs — Last move: D7-E7-1\n",
      "Depth 2: Avg time = 0.0005s over 10 runs — Last move: D7-E7-1\n",
      "Depth 3: Avg time = 0.0005s over 10 runs — Last move: D7-E7-1\n",
      "Depth 4: Avg time = 0.0005s over 10 runs — Last move: D7-E7-1\n",
      "Depth 5: Avg time = 0.0005s over 10 runs — Last move: D7-E7-1\n",
      "Depth 6: Avg time = 0.0005s over 10 runs — Last move: D7-E7-1\n",
      "Depth 7: Avg time = 0.0005s over 10 runs — Last move: D7-E7-1\n",
      "Depth 8: Avg time = 0.0005s over 10 runs — Last move: D7-E7-1\n",
      "Depth 9: Avg time = 0.0005s over 10 runs — Last move: D7-E7-1\n"
     ]
    }
   ],
   "source": [
    "import time\n",
    "from guard_towers import fen_to_board\n",
    "from evaluation import find_best_move, transposition_table, pv_table\n",
    "\n",
    "def benchmark_find_best_move_avg(fen: str, player: str, depths: list, runs_per_depth: int = 10):\n",
    "    board_init, _ = fen_to_board(fen)\n",
    "\n",
    "    for depth in depths:\n",
    "        total_time = 0.0\n",
    "        last_move = None\n",
    "        for _ in range(runs_per_depth):\n",
    "            board = board_init.copy()  # fresh board each time\n",
    "\n",
    "            transposition_table.clear()\n",
    "            pv_table.clear()\n",
    "            \n",
    "            start = time.perf_counter()\n",
    "            move = find_best_move(board, player, base_depth=depth)\n",
    "            end = time.perf_counter()\n",
    "            total_time += (end - start)\n",
    "            last_move = move  # just for display\n",
    "        avg_time = total_time / runs_per_depth\n",
    "        print(f\"Depth {depth}: Avg time = {avg_time:.4f}s over {runs_per_depth} runs — Last move: {last_move}\")\n",
    "\n",
    "benchmark_find_best_move_avg('r1r11RG1r1r1/2r11r12/3r13/7/3b13/2b11b12/b1b11BG1b1b1 r', player='r', depths=[1, 2, 3, 4, 5, 6, 7, 8, 9])"
   ]
  },
  {
   "cell_type": "code",
   "execution_count": null,
   "id": "39e15397",
   "metadata": {},
   "outputs": [],
   "source": []
  }
 ],
 "metadata": {
  "kernelspec": {
   "display_name": "base",
   "language": "python",
   "name": "python3"
  },
  "language_info": {
   "codemirror_mode": {
    "name": "ipython",
    "version": 3
   },
   "file_extension": ".py",
   "mimetype": "text/x-python",
   "name": "python",
   "nbconvert_exporter": "python",
   "pygments_lexer": "ipython3",
   "version": "3.11.7"
  }
 },
 "nbformat": 4,
 "nbformat_minor": 5
}

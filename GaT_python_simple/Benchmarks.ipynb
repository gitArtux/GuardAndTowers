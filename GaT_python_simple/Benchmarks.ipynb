{
 "cells": [
  {
   "cell_type": "code",
   "execution_count": 1,
   "id": "14c90525",
   "metadata": {},
   "outputs": [],
   "source": [
    "### Benchmarks for the 'generate_moves' function"
   ]
  },
  {
   "cell_type": "code",
   "execution_count": null,
   "id": "96153f85",
   "metadata": {},
   "outputs": [],
   "source": [
    "from guard_towers import Board, BOARD_SIZE, Piece\n",
    "from time import time\n",
    "import pandas as pd"
   ]
  },
  {
   "cell_type": "code",
   "execution_count": 9,
   "id": "13558262",
   "metadata": {},
   "outputs": [],
   "source": [
    "from timeit import timeit\n",
    "from guard_towers import Board, Piece, BOARD_SIZE   # adjust import\n",
    "from typing import Dict\n",
    "\n",
    "def empty_board() -> Board:\n",
    "    \"\"\"Start with a completely blank board (no pieces).\"\"\"\n",
    "    b = Board()\n",
    "    for y in range(BOARD_SIZE):\n",
    "        for x in range(BOARD_SIZE):\n",
    "            b.grid[y][x] = None\n",
    "    return b\n",
    "\n",
    "def board_from_dict(pieces: Dict[str, Piece]) -> Board:\n",
    "    \"\"\"Create a board from a {square: Piece(...)} mapping.\"\"\"\n",
    "    b = empty_board()\n",
    "    for sq, pc in pieces.items():\n",
    "        b.place(sq, pc)\n",
    "    return b\n",
    "\n",
    "def time_generate_moves(board: Board, player: str, repeats: int = 10_000) -> float:\n",
    "    \"\"\"Return time (seconds) to call generate_moves `repeats` times.\"\"\"\n",
    "    return timeit(lambda: board.generate_moves(player), number=repeats)\n"
   ]
  },
  {
   "cell_type": "code",
   "execution_count": null,
   "id": "a499ac7e",
   "metadata": {},
   "outputs": [
    {
     "name": "stdout",
     "output_type": "stream",
     "text": [
      "Blue to move: 0.1319388750125654\n",
      "Red  to move: 0.10897666699020192\n"
     ]
    }
   ],
   "source": [
    "initial_board = Board()\n",
    "print(\"Blue to move:\", time_generate_moves(initial_board, 'b'))\n",
    "print(\"Red  to move:\", time_generate_moves(initial_board, 'r'))\n"
   ]
  },
  {
   "cell_type": "code",
   "execution_count": 11,
   "id": "75a26919",
   "metadata": {},
   "outputs": [
    {
     "name": "stdout",
     "output_type": "stream",
     "text": [
      "Blue to move: 0.13726724998559803\n",
      "Red  to move: 0.10538349999114871\n"
     ]
    }
   ],
   "source": [
    "mid_game_pieces = {\n",
    "    # Blue\n",
    "    'D3': Piece('b', 'guard'),\n",
    "    'E3': Piece('b', 'tower', 3),\n",
    "    'B4': Piece('b', 'tower', 2),\n",
    "    'G1': Piece('b', 'tower', 1),\n",
    "\n",
    "    # Red\n",
    "    'D6': Piece('r', 'guard'),\n",
    "    'C5': Piece('r', 'tower', 2),\n",
    "    'F6': Piece('r', 'tower', 4),\n",
    "    'A7': Piece('r', 'tower', 1),\n",
    "}\n",
    "mid_game_board = board_from_dict(mid_game_pieces)\n",
    "\n",
    "print(\"Blue to move:\", time_generate_moves(mid_game_board, 'b'))\n",
    "print(\"Red  to move:\", time_generate_moves(mid_game_board, 'r'))\n"
   ]
  },
  {
   "cell_type": "code",
   "execution_count": 12,
   "id": "b9fb6300",
   "metadata": {},
   "outputs": [
    {
     "name": "stdout",
     "output_type": "stream",
     "text": [
      "Blue to move: 0.09080900001572445\n",
      "Red  to move: 0.0646641249768436\n"
     ]
    }
   ],
   "source": [
    "end_game_pieces = {\n",
    "    # Blue\n",
    "    'D2': Piece('b', 'guard'),\n",
    "    'D3': Piece('b', 'tower', 4),\n",
    "\n",
    "    # Red\n",
    "    'D7': Piece('r', 'guard'),\n",
    "    'D5': Piece('r', 'tower', 3),\n",
    "}\n",
    "end_game_board = board_from_dict(end_game_pieces)\n",
    "\n",
    "print(\"Blue to move:\", time_generate_moves(end_game_board, 'b'))\n",
    "print(\"Red  to move:\", time_generate_moves(end_game_board, 'r'))\n"
   ]
  },
  {
   "cell_type": "markdown",
   "id": "1f97cca8",
   "metadata": {},
   "source": [
    "### Benchmark eval function"
   ]
  },
  {
   "cell_type": "code",
   "execution_count": 2,
   "id": "5e093d9b",
   "metadata": {},
   "outputs": [
    {
     "name": "stdout",
     "output_type": "stream",
     "text": [
      "Evaluated 10000 times in 0.0292 seconds.\n",
      "Average time per call: 0.00000292 seconds.\n",
      "Number of possible moves for r: 6\n",
      "Evaluated 10000 times in 0.0215 seconds.\n",
      "Average time per call: 0.00000215 seconds.\n",
      "Number of possible moves for b: 15\n"
     ]
    }
   ],
   "source": [
    "import time\n",
    "from guard_towers import fen_to_board, Board\n",
    "from evaluation import evaluate\n",
    "\n",
    "def benchmark_evaluate(fen: str, player: str, iterations: int = 10_000):\n",
    "    board, player = fen_to_board(fen)\n",
    "\n",
    "    # Time the evaluation function over multiple iterations\n",
    "    start = time.time()\n",
    "    for _ in range(iterations):\n",
    "        evaluate(board, player)\n",
    "    end = time.time()\n",
    "\n",
    "    total_time = end - start\n",
    "    avg_time = total_time / iterations\n",
    "    print(f\"Evaluated {iterations} times in {total_time:.4f} seconds.\")\n",
    "    print(f\"Average time per call: {avg_time:.8f} seconds.\")\n",
    "\n",
    "\n",
    "# print how many moves are possible\n",
    "def count_moves(board: Board, player: str) -> int:\n",
    "    \"\"\"Count the number of possible moves for a player.\"\"\"\n",
    "    moves = board.generate_moves(player)\n",
    "    return len(moves)\n",
    "\n",
    "fen = 'r3RG5/r16/b16/7/7/7/3BG3 r'\n",
    "benchmark_evaluate(fen, player='r')\n",
    "board, player = fen_to_board(fen)\n",
    "num_moves = count_moves(board, player)\n",
    "print(f\"Number of possible moves for {player}: {num_moves}\")\n",
    "\n",
    "fen = 'b76/3RG3/7/7/7/7/3BG3 b'\n",
    "benchmark_evaluate(fen, player='b')\n",
    "board, player = fen_to_board(fen)\n",
    "num_moves = count_moves(board, player)\n",
    "print(f\"Number of possible moves for {player}: {num_moves}\")"
   ]
  },
  {
   "cell_type": "code",
   "execution_count": 1,
   "id": "48ac4e53",
   "metadata": {},
   "outputs": [
    {
     "name": "stdout",
     "output_type": "stream",
     "text": [
      "Depth 1: Avg time = 0.0001s over 10 runs — Last move: A6-A5-1\n",
      "Depth 2: Avg time = 0.0006s over 10 runs — Last move: A6-A5-1\n",
      "Depth 3: Avg time = 0.0058s over 10 runs — Last move: A6-A5-1\n",
      "Depth 4: Avg time = 0.0189s over 10 runs — Last move: A6-A5-1\n",
      "Depth 5: Avg time = 0.1149s over 10 runs — Last move: A6-A5-1\n",
      "Depth 6: Avg time = 0.6612s over 10 runs — Last move: A6-A5-1\n",
      "dict_items([(0, 6), (1, 32), (2, 219), (3, 1218), (4, 10738), (5, 62771)])\n",
      "Depth 1: Avg time = 0.0002s over 10 runs — Last move: A7-A1-6\n",
      "Depth 2: Avg time = 0.0007s over 10 runs — Last move: A7-A1-6\n",
      "Depth 3: Avg time = 0.0099s over 10 runs — Last move: A7-A1-6\n",
      "Depth 4: Avg time = 0.0384s over 10 runs — Last move: A7-A1-6\n",
      "Depth 5: Avg time = 0.5765s over 10 runs — Last move: A7-A1-6\n",
      "Depth 6: Avg time = 2.3710s over 10 runs — Last move: A7-A1-6\n",
      "dict_items([(0, 15), (1, 60), (2, 945), (3, 3517), (4, 59634), (5, 220917)])\n"
     ]
    }
   ],
   "source": [
    "import time\n",
    "from guard_towers import fen_to_board\n",
    "from evaluation import find_best_move, transposition_table, pv_table, depth_move_counters\n",
    "\n",
    "def benchmark_find_best_move_avg(fen: str, player: str, depths: list, runs_per_depth: int = 10):\n",
    "    board_init, _ = fen_to_board(fen)\n",
    "\n",
    "    for depth in depths:\n",
    "        total_time = 0.0\n",
    "        last_move = None\n",
    "        for _ in range(runs_per_depth):\n",
    "            board = board_init.copy()  # fresh board each time\n",
    "\n",
    "            transposition_table.clear()\n",
    "            pv_table.clear()\n",
    "            \n",
    "            start = time.perf_counter()\n",
    "            move = find_best_move(board, player, base_depth=depth)\n",
    "            end = time.perf_counter()\n",
    "            total_time += (end - start)\n",
    "            last_move = move  # just for display\n",
    "        avg_time = total_time / runs_per_depth\n",
    "        print(f\"Depth {depth}: Avg time = {avg_time:.4f}s over {runs_per_depth} runs — Last move: {last_move}\")\n",
    "\n",
    "depth_move_counters.clear()\n",
    "benchmark_find_best_move_avg('r3RG5/r16/b16/7/7/7/3BG3 r', player='r', depths=[1, 2, 3, 4, 5, 6])\n",
    "last_key = max(depth_move_counters.keys())\n",
    "print(depth_move_counters[last_key].items())\n",
    "# print(depth_move_counters)\n",
    "depth_move_counters.clear()\n",
    "benchmark_find_best_move_avg('b76/3RG3/7/7/7/7/3BG3 b', player='b', depths=[1, 2, 3, 4, 5, 6])\n",
    "last_key = max(depth_move_counters.keys())\n",
    "print(depth_move_counters[last_key].items())\n",
    "# print(depth_move_counters)"
   ]
  },
  {
   "cell_type": "code",
   "execution_count": null,
   "id": "2c6493a8",
   "metadata": {},
   "outputs": [],
   "source": []
  }
 ],
 "metadata": {
  "kernelspec": {
   "display_name": "base",
   "language": "python",
   "name": "python3"
  },
  "language_info": {
   "codemirror_mode": {
    "name": "ipython",
    "version": 3
   },
   "file_extension": ".py",
   "mimetype": "text/x-python",
   "name": "python",
   "nbconvert_exporter": "python",
   "pygments_lexer": "ipython3",
   "version": "3.11.7"
  }
 },
 "nbformat": 4,
 "nbformat_minor": 5
}

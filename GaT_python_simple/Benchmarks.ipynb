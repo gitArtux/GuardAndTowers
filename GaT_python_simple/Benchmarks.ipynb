{
 "cells": [
  {
   "cell_type": "code",
   "execution_count": 1,
   "id": "14c90525",
   "metadata": {},
   "outputs": [],
   "source": [
    "### Benchmarks for the 'generate_moves' function"
   ]
  },
  {
   "cell_type": "code",
   "execution_count": null,
   "id": "96153f85",
   "metadata": {},
   "outputs": [],
   "source": [
    "from guard_towers import Board, BOARD_SIZE, Piece\n",
    "from time import time\n",
    "import pandas as pd"
   ]
  },
  {
   "cell_type": "code",
   "execution_count": 9,
   "id": "13558262",
   "metadata": {},
   "outputs": [],
   "source": [
    "from timeit import timeit\n",
    "from guard_towers import Board, Piece, BOARD_SIZE   # adjust import\n",
    "from typing import Dict\n",
    "\n",
    "def empty_board() -> Board:\n",
    "    \"\"\"Start with a completely blank board (no pieces).\"\"\"\n",
    "    b = Board()\n",
    "    for y in range(BOARD_SIZE):\n",
    "        for x in range(BOARD_SIZE):\n",
    "            b.grid[y][x] = None\n",
    "    return b\n",
    "\n",
    "def board_from_dict(pieces: Dict[str, Piece]) -> Board:\n",
    "    \"\"\"Create a board from a {square: Piece(...)} mapping.\"\"\"\n",
    "    b = empty_board()\n",
    "    for sq, pc in pieces.items():\n",
    "        b.place(sq, pc)\n",
    "    return b\n",
    "\n",
    "def time_generate_moves(board: Board, player: str, repeats: int = 10_000) -> float:\n",
    "    \"\"\"Return time (seconds) to call generate_moves `repeats` times.\"\"\"\n",
    "    return timeit(lambda: board.generate_moves(player), number=repeats)\n"
   ]
  },
  {
   "cell_type": "code",
   "execution_count": null,
   "id": "a499ac7e",
   "metadata": {},
   "outputs": [
    {
     "name": "stdout",
     "output_type": "stream",
     "text": [
      "Blue to move: 0.1319388750125654\n",
      "Red  to move: 0.10897666699020192\n"
     ]
    }
   ],
   "source": [
    "initial_board = Board()\n",
    "print(\"Blue to move:\", time_generate_moves(initial_board, 'b'))\n",
    "print(\"Red  to move:\", time_generate_moves(initial_board, 'r'))\n"
   ]
  },
  {
   "cell_type": "code",
   "execution_count": 11,
   "id": "75a26919",
   "metadata": {},
   "outputs": [
    {
     "name": "stdout",
     "output_type": "stream",
     "text": [
      "Blue to move: 0.13726724998559803\n",
      "Red  to move: 0.10538349999114871\n"
     ]
    }
   ],
   "source": [
    "mid_game_pieces = {\n",
    "    # Blue\n",
    "    'D3': Piece('b', 'guard'),\n",
    "    'E3': Piece('b', 'tower', 3),\n",
    "    'B4': Piece('b', 'tower', 2),\n",
    "    'G1': Piece('b', 'tower', 1),\n",
    "\n",
    "    # Red\n",
    "    'D6': Piece('r', 'guard'),\n",
    "    'C5': Piece('r', 'tower', 2),\n",
    "    'F6': Piece('r', 'tower', 4),\n",
    "    'A7': Piece('r', 'tower', 1),\n",
    "}\n",
    "mid_game_board = board_from_dict(mid_game_pieces)\n",
    "\n",
    "print(\"Blue to move:\", time_generate_moves(mid_game_board, 'b'))\n",
    "print(\"Red  to move:\", time_generate_moves(mid_game_board, 'r'))\n"
   ]
  },
  {
   "cell_type": "code",
   "execution_count": 12,
   "id": "b9fb6300",
   "metadata": {},
   "outputs": [
    {
     "name": "stdout",
     "output_type": "stream",
     "text": [
      "Blue to move: 0.09080900001572445\n",
      "Red  to move: 0.0646641249768436\n"
     ]
    }
   ],
   "source": [
    "end_game_pieces = {\n",
    "    # Blue\n",
    "    'D2': Piece('b', 'guard'),\n",
    "    'D3': Piece('b', 'tower', 4),\n",
    "\n",
    "    # Red\n",
    "    'D7': Piece('r', 'guard'),\n",
    "    'D5': Piece('r', 'tower', 3),\n",
    "}\n",
    "end_game_board = board_from_dict(end_game_pieces)\n",
    "\n",
    "print(\"Blue to move:\", time_generate_moves(end_game_board, 'b'))\n",
    "print(\"Red  to move:\", time_generate_moves(end_game_board, 'r'))\n"
   ]
  },
  {
   "cell_type": "code",
   "execution_count": null,
   "id": "1f97cca8",
   "metadata": {},
   "outputs": [],
   "source": []
  }
 ],
 "metadata": {
  "kernelspec": {
   "display_name": "base",
   "language": "python",
   "name": "python3"
  },
  "language_info": {
   "codemirror_mode": {
    "name": "ipython",
    "version": 3
   },
   "file_extension": ".py",
   "mimetype": "text/x-python",
   "name": "python",
   "nbconvert_exporter": "python",
   "pygments_lexer": "ipython3",
   "version": "3.11.7"
  }
 },
 "nbformat": 4,
 "nbformat_minor": 5
}
